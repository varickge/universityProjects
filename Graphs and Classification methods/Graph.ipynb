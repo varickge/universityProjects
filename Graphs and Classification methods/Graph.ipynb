{
 "cells": [
  {
   "cell_type": "code",
   "execution_count": 1,
   "id": "ab5a984c",
   "metadata": {},
   "outputs": [],
   "source": [
    "import networkx as nx\n",
    "import matplotlib.pyplot as plt"
   ]
  },
  {
   "cell_type": "code",
   "execution_count": 2,
   "id": "097bfa03",
   "metadata": {},
   "outputs": [
    {
     "data": {
      "image/png": "[encoded data removed]",
      "text/plain": [
       "<Figure size 432x288 with 1 Axes>"
      ]
     },
     "metadata": {},
     "output_type": "display_data"
    }
   ],
   "source": [
    "# Define a graph\n",
    "G_plot = nx.DiGraph()\n",
    "G_plot.add_edges_from([(1, 4), (1, 5), (2, 3), (2, 5), (3, 5), (3, 6), (4, 5), (4, 7), (5, 6), (5, 7), \n",
    "                  (5, 8), (5, 9), (6, 9), (7, 10), (7, 11), (8, 9), (8, 11), (9, 12), (10, 0), (11, 12), (11, 0),\n",
    "                  (12, 0)])\n",
    "\n",
    "pos = {0: (4, 1), 1: (0, 2), 2: (0, 1), 3: (0, 0), 4: (1, 2), 5: (1, 1), 6:(1, 0), 7: (2, 2), 8: (2, 1), 9: (2, 0), \n",
    "       10: (3, 2), 11: (3, 1), 12: (3, 0)}\n",
    "n=12\n",
    "# Draw the graph\n",
    "nx.draw(G_plot, pos=pos, with_labels=True)  # Draw nodes and edges\n",
    "plt.show()  # Display the graph\n",
    "\n",
    "G = nx.DiGraph()\n",
    "G.add_edges_from([(1, 4), (1, 5), (2, 3), (2, 5), (3, 5), (3, 6), (4, 5), (4, 7), (5, 6), (5, 7), \n",
    "                  (5, 8), (5, 9), (6, 9), (7, 10), (7, 11), (8, 9), (8, 11), (9, 12), (11, 12)])"
   ]
  },
  {
   "cell_type": "code",
   "execution_count": 3,
   "id": "78bb5457",
   "metadata": {},
   "outputs": [
    {
     "name": "stdout",
     "output_type": "stream",
     "text": [
      "Adjacency matrix A:\n",
      " [[0 0 0 1 1 0 0 0 0 0 0 0]\n",
      " [0 0 1 0 1 0 0 0 0 0 0 0]\n",
      " [0 0 0 0 1 1 0 0 0 0 0 0]\n",
      " [0 0 0 0 1 0 1 0 0 0 0 0]\n",
      " [0 0 0 0 0 1 1 1 1 0 0 0]\n",
      " [0 0 0 0 0 0 0 0 1 0 0 0]\n",
      " [0 0 0 0 0 0 0 0 0 1 1 0]\n",
      " [0 0 0 0 0 0 0 0 1 0 1 0]\n",
      " [0 0 0 0 0 0 0 0 0 0 0 1]\n",
      " [0 0 0 0 0 0 0 0 0 0 0 0]\n",
      " [0 0 0 0 0 0 0 0 0 0 0 1]\n",
      " [0 0 0 0 0 0 0 0 0 0 0 0]]\n",
      "\n",
      "Adjacency matrix A_2:\n",
      " [[0 0 0 0 1 1 2 1 1 0 0 0]\n",
      " [0 0 0 0 1 2 1 1 1 0 0 0]\n",
      " [0 0 0 0 0 1 1 1 2 0 0 0]\n",
      " [0 0 0 0 0 1 1 1 1 1 1 0]\n",
      " [0 0 0 0 0 0 0 0 2 1 2 1]\n",
      " [0 0 0 0 0 0 0 0 0 0 0 1]\n",
      " [0 0 0 0 0 0 0 0 0 0 0 1]\n",
      " [0 0 0 0 0 0 0 0 0 0 0 2]\n",
      " [0 0 0 0 0 0 0 0 0 0 0 0]\n",
      " [0 0 0 0 0 0 0 0 0 0 0 0]\n",
      " [0 0 0 0 0 0 0 0 0 0 0 0]\n",
      " [0 0 0 0 0 0 0 0 0 0 0 0]]\n",
      "\n",
      "Adjacency matrix A_3:\n",
      " [[0 0 0 0 0 1 1 1 3 2 3 1]\n",
      " [0 0 0 0 0 1 1 1 4 1 2 1]\n",
      " [0 0 0 0 0 0 0 0 2 1 2 2]\n",
      " [0 0 0 0 0 0 0 0 2 1 2 2]\n",
      " [0 0 0 0 0 0 0 0 0 0 0 4]\n",
      " [0 0 0 0 0 0 0 0 0 0 0 0]\n",
      " [0 0 0 0 0 0 0 0 0 0 0 0]\n",
      " [0 0 0 0 0 0 0 0 0 0 0 0]\n",
      " [0 0 0 0 0 0 0 0 0 0 0 0]\n",
      " [0 0 0 0 0 0 0 0 0 0 0 0]\n",
      " [0 0 0 0 0 0 0 0 0 0 0 0]\n",
      " [0 0 0 0 0 0 0 0 0 0 0 0]]\n",
      "\n",
      "Adjacency matrix A_4:\n",
      " [[0 0 0 0 0 0 0 0 2 1 2 6]\n",
      " [0 0 0 0 0 0 0 0 2 1 2 6]\n",
      " [0 0 0 0 0 0 0 0 0 0 0 4]\n",
      " [0 0 0 0 0 0 0 0 0 0 0 4]\n",
      " [0 0 0 0 0 0 0 0 0 0 0 0]\n",
      " [0 0 0 0 0 0 0 0 0 0 0 0]\n",
      " [0 0 0 0 0 0 0 0 0 0 0 0]\n",
      " [0 0 0 0 0 0 0 0 0 0 0 0]\n",
      " [0 0 0 0 0 0 0 0 0 0 0 0]\n",
      " [0 0 0 0 0 0 0 0 0 0 0 0]\n",
      " [0 0 0 0 0 0 0 0 0 0 0 0]\n",
      " [0 0 0 0 0 0 0 0 0 0 0 0]]\n",
      "\n",
      "Adjacency matrix A_5:\n",
      " [[0 0 0 0 0 0 0 0 0 0 0 4]\n",
      " [0 0 0 0 0 0 0 0 0 0 0 4]\n",
      " [0 0 0 0 0 0 0 0 0 0 0 0]\n",
      " [0 0 0 0 0 0 0 0 0 0 0 0]\n",
      " [0 0 0 0 0 0 0 0 0 0 0 0]\n",
      " [0 0 0 0 0 0 0 0 0 0 0 0]\n",
      " [0 0 0 0 0 0 0 0 0 0 0 0]\n",
      " [0 0 0 0 0 0 0 0 0 0 0 0]\n",
      " [0 0 0 0 0 0 0 0 0 0 0 0]\n",
      " [0 0 0 0 0 0 0 0 0 0 0 0]\n",
      " [0 0 0 0 0 0 0 0 0 0 0 0]\n",
      " [0 0 0 0 0 0 0 0 0 0 0 0]]\n",
      "\n",
      "Adjacency matrix A_6:\n",
      " [[0 0 0 0 0 0 0 0 0 0 0 0]\n",
      " [0 0 0 0 0 0 0 0 0 0 0 0]\n",
      " [0 0 0 0 0 0 0 0 0 0 0 0]\n",
      " [0 0 0 0 0 0 0 0 0 0 0 0]\n",
      " [0 0 0 0 0 0 0 0 0 0 0 0]\n",
      " [0 0 0 0 0 0 0 0 0 0 0 0]\n",
      " [0 0 0 0 0 0 0 0 0 0 0 0]\n",
      " [0 0 0 0 0 0 0 0 0 0 0 0]\n",
      " [0 0 0 0 0 0 0 0 0 0 0 0]\n",
      " [0 0 0 0 0 0 0 0 0 0 0 0]\n",
      " [0 0 0 0 0 0 0 0 0 0 0 0]\n",
      " [0 0 0 0 0 0 0 0 0 0 0 0]]\n",
      "\n",
      "Delta:\n",
      " [[ 0  0  0  1  2  2  3  2  6  3  5 11]\n",
      " [ 0  0  1  0  2  3  2  2  7  2  4 11]\n",
      " [ 0  0  0  0  1  2  1  1  4  1  2  6]\n",
      " [ 0  0  0  0  1  1  2  1  3  2  3  6]\n",
      " [ 0  0  0  0  0  1  1  1  3  1  2  5]\n",
      " [ 0  0  0  0  0  0  0  0  1  0  0  1]\n",
      " [ 0  0  0  0  0  0  0  0  0  1  1  1]\n",
      " [ 0  0  0  0  0  0  0  0  1  0  1  2]\n",
      " [ 0  0  0  0  0  0  0  0  0  0  0  1]\n",
      " [ 0  0  0  0  0  0  0  0  0  0  0  0]\n",
      " [ 0  0  0  0  0  0  0  0  0  0  0  1]\n",
      " [ 0  0  0  0  0  0  0  0  0  0  0  0]]\n"
     ]
    },
    {
     "name": "stderr",
     "output_type": "stream",
     "text": [
      "/var/folders/2k/n9362ktx4hzctxmb23t1jv8m0000gn/T/ipykernel_50779/2466777551.py:2: FutureWarning: adjacency_matrix will return a scipy.sparse array instead of a matrix in Networkx 3.0.\n",
      "  A = nx.adjacency_matrix(G, range(1, n+1)).todense()\n"
     ]
    }
   ],
   "source": [
    "# Calculate the adjacency matrix A\n",
    "A = nx.adjacency_matrix(G, range(1, n+1)).todense()\n",
    "print(\"Adjacency matrix A:\\n\", A)\n",
    "\n",
    "idx = 1\n",
    "currA = A\n",
    "delta = 0\n",
    "while (currA.sum() != 0):\n",
    "    idx += 1\n",
    "    delta += currA\n",
    "    currA = currA @ A \n",
    "    print(f\"\\nAdjacency matrix A_{idx}:\\n\", currA)\n",
    "print(\"\\nDelta:\\n\", delta)"
   ]
  },
  {
   "cell_type": "code",
   "execution_count": 4,
   "id": "d3c2018e",
   "metadata": {},
   "outputs": [
    {
     "name": "stdout",
     "output_type": "stream",
     "text": [
      "Intermediate nodes: [4, 5, 3, 6, 7, 8, 9, 11]\n",
      "\n",
      "Coefficient of intermediate elements: 0.6666666666666666\n"
     ]
    }
   ],
   "source": [
    "# get the nodes with in and out arrows\n",
    "intermediate_nodes = []\n",
    "\n",
    "for node in G.nodes:\n",
    "    in_degree = G.in_degree(node)\n",
    "    out_degree = G.out_degree(node)\n",
    "    \n",
    "    if in_degree > 0 and out_degree > 0:\n",
    "        intermediate_nodes.append(node)\n",
    "        \n",
    "print(\"Intermediate nodes:\", intermediate_nodes)\n",
    "print(\"\\nCoefficient of intermediate elements:\", len(intermediate_nodes)/len(G))\n"
   ]
  },
  {
   "cell_type": "code",
   "execution_count": 7,
   "id": "a8553b27",
   "metadata": {},
   "outputs": [
    {
     "name": "stdout",
     "output_type": "stream",
     "text": [
      "Number of internal connections:  19\n"
     ]
    }
   ],
   "source": [
    "num_internal_connections = 0\n",
    "\n",
    "for node in G.nodes():\n",
    "    neighbors = set(G.neighbors(node))\n",
    "    for neighbor in neighbors:\n",
    "        if node < neighbor and neighbor in neighbors:\n",
    "            num_internal_connections += 1\n",
    "            \n",
    "print(\"Number of internal connections: \", num_internal_connections)\n"
   ]
  },
  {
   "cell_type": "code",
   "execution_count": null,
   "id": "f692a541",
   "metadata": {},
   "outputs": [],
   "source": []
  }
 ],
 "metadata": {
  "kernelspec": {
   "display_name": "Python 3 (ipykernel)",
   "language": "python",
   "name": "python3"
  },
  "language_info": {
   "codemirror_mode": {
    "name": "ipython",
    "version": 3
   },
   "file_extension": ".py",
   "mimetype": "text/x-python",
   "name": "python",
   "nbconvert_exporter": "python",
   "pygments_lexer": "ipython3",
   "version": "3.9.7"
  }
 },
 "nbformat": 4,
 "nbformat_minor": 5
}
