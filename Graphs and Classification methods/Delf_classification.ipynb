{
 "cells": [
  {
   "cell_type": "code",
   "execution_count": 1,
   "id": "afb62227",
   "metadata": {},
   "outputs": [],
   "source": [
    "import numpy as np\n",
    "import pandas as pd"
   ]
  },
  {
   "cell_type": "code",
   "execution_count": 2,
   "id": "ee4168da",
   "metadata": {},
   "outputs": [],
   "source": [
    "array = np.array([[1, 4, 5, 5, 2, 1, 3, 2, 4], \n",
    "                  [4, 1, 2, 2, 3, 3, 1, 4, 5],\n",
    "                  [2, 2, 1, 1, 1, 2, 2, 3, 4],\n",
    "                  [5, 5, 4, 3, 5, 5, 4, 5, 2],\n",
    "                  [3, 3, 3, 4, 4, 4, 5, 1, 1]])"
   ]
  },
  {
   "cell_type": "markdown",
   "id": "1e70caf7",
   "metadata": {},
   "source": [
    "### Calculate Sum (Փորձագետների տված գնահատականների գումարի հաշվվում)"
   ]
  },
  {
   "cell_type": "code",
   "execution_count": 3,
   "id": "a75b5370",
   "metadata": {},
   "outputs": [],
   "source": [
    "sumOf = array.sum(axis=-1)\n",
    "array = np.hstack([array, sumOf[:, None]])"
   ]
  },
  {
   "cell_type": "markdown",
   "id": "fe9d59fe",
   "metadata": {},
   "source": [
    "### Calculating new rating (Նոր վարկանիշի հաշվվում)"
   ]
  },
  {
   "cell_type": "code",
   "execution_count": 4,
   "id": "548f08db",
   "metadata": {},
   "outputs": [],
   "source": [
    "newRateing = sumOf.argsort()\n",
    "newRateing += 1\n",
    "array = np.hstack([array, newRateing[:, None]])"
   ]
  },
  {
   "cell_type": "markdown",
   "id": "bb1494ba",
   "metadata": {},
   "source": [
    "### Calculating $t_j$ (համընկնումների քանակ)"
   ]
  },
  {
   "cell_type": "code",
   "execution_count": 5,
   "id": "47f9198b",
   "metadata": {},
   "outputs": [],
   "source": [
    "t_j = []\n",
    "for i in range(9):\n",
    "    t_j.append((array[:, i] == newRateing).sum())\n",
    "t_j.extend(['-', '-'])\n",
    "t_j = np.array(t_j)\n",
    "array = np.vstack([array, t_j[None]])"
   ]
  },
  {
   "cell_type": "markdown",
   "id": "250367d6",
   "metadata": {},
   "source": [
    "### Calculating  $T_j \\space (T_j = t_j^3 - t_j)$"
   ]
  },
  {
   "cell_type": "code",
   "execution_count": 6,
   "id": "ee5e46ee",
   "metadata": {},
   "outputs": [],
   "source": [
    "T_j = np.power(t_j[:-2].astype(int), 3) - t_j[:-2].astype(int)\n",
    "T_j = list(T_j)\n",
    "T_j.extend(['-', '-'])\n",
    "T_j = np.array(T_j)\n",
    "array = np.vstack([array, T_j[None]])"
   ]
  },
  {
   "cell_type": "markdown",
   "id": "4d7a20cf",
   "metadata": {},
   "source": [
    "### Visualization (Վիզուալիզացիա)"
   ]
  },
  {
   "cell_type": "code",
   "execution_count": 7,
   "id": "d3e9c2ef",
   "metadata": {},
   "outputs": [
    {
     "data": {
      "text/html": [
       "<div>\n",
       "<style scoped>\n",
       "    .dataframe tbody tr th:only-of-type {\n",
       "        vertical-align: middle;\n",
       "    }\n",
       "\n",
       "    .dataframe tbody tr th {\n",
       "        vertical-align: top;\n",
       "    }\n",
       "\n",
       "    .dataframe thead th {\n",
       "        text-align: right;\n",
       "    }\n",
       "</style>\n",
       "<table border=\"1\" class=\"dataframe\">\n",
       "  <thead>\n",
       "    <tr style=\"text-align: right;\">\n",
       "      <th></th>\n",
       "      <th>փ_1</th>\n",
       "      <th>փ_2</th>\n",
       "      <th>փ_3</th>\n",
       "      <th>փ_4</th>\n",
       "      <th>փ_5</th>\n",
       "      <th>փ_6</th>\n",
       "      <th>փ_7</th>\n",
       "      <th>փ_8</th>\n",
       "      <th>փ_9</th>\n",
       "      <th>գում</th>\n",
       "      <th>նոր դաս</th>\n",
       "    </tr>\n",
       "  </thead>\n",
       "  <tbody>\n",
       "    <tr>\n",
       "      <th>ՀԱՊՀ</th>\n",
       "      <td>1</td>\n",
       "      <td>4</td>\n",
       "      <td>5</td>\n",
       "      <td>5</td>\n",
       "      <td>2</td>\n",
       "      <td>1</td>\n",
       "      <td>3</td>\n",
       "      <td>2</td>\n",
       "      <td>4</td>\n",
       "      <td>27</td>\n",
       "      <td>3</td>\n",
       "    </tr>\n",
       "    <tr>\n",
       "      <th>ԵՊՀ</th>\n",
       "      <td>4</td>\n",
       "      <td>1</td>\n",
       "      <td>2</td>\n",
       "      <td>2</td>\n",
       "      <td>3</td>\n",
       "      <td>3</td>\n",
       "      <td>1</td>\n",
       "      <td>4</td>\n",
       "      <td>5</td>\n",
       "      <td>25</td>\n",
       "      <td>2</td>\n",
       "    </tr>\n",
       "    <tr>\n",
       "      <th>AUA</th>\n",
       "      <td>2</td>\n",
       "      <td>2</td>\n",
       "      <td>1</td>\n",
       "      <td>1</td>\n",
       "      <td>1</td>\n",
       "      <td>2</td>\n",
       "      <td>2</td>\n",
       "      <td>3</td>\n",
       "      <td>4</td>\n",
       "      <td>18</td>\n",
       "      <td>1</td>\n",
       "    </tr>\n",
       "    <tr>\n",
       "      <th>RAU</th>\n",
       "      <td>5</td>\n",
       "      <td>5</td>\n",
       "      <td>4</td>\n",
       "      <td>3</td>\n",
       "      <td>5</td>\n",
       "      <td>5</td>\n",
       "      <td>4</td>\n",
       "      <td>5</td>\n",
       "      <td>2</td>\n",
       "      <td>38</td>\n",
       "      <td>5</td>\n",
       "    </tr>\n",
       "    <tr>\n",
       "      <th>ՃՇՀԱՀ</th>\n",
       "      <td>3</td>\n",
       "      <td>3</td>\n",
       "      <td>3</td>\n",
       "      <td>4</td>\n",
       "      <td>4</td>\n",
       "      <td>4</td>\n",
       "      <td>5</td>\n",
       "      <td>1</td>\n",
       "      <td>1</td>\n",
       "      <td>28</td>\n",
       "      <td>4</td>\n",
       "    </tr>\n",
       "    <tr>\n",
       "      <th>$t_j$</th>\n",
       "      <td>1</td>\n",
       "      <td>1</td>\n",
       "      <td>2</td>\n",
       "      <td>3</td>\n",
       "      <td>3</td>\n",
       "      <td>2</td>\n",
       "      <td>1</td>\n",
       "      <td>1</td>\n",
       "      <td>0</td>\n",
       "      <td>-</td>\n",
       "      <td>-</td>\n",
       "    </tr>\n",
       "    <tr>\n",
       "      <th>$T_j$</th>\n",
       "      <td>0</td>\n",
       "      <td>0</td>\n",
       "      <td>6</td>\n",
       "      <td>24</td>\n",
       "      <td>24</td>\n",
       "      <td>6</td>\n",
       "      <td>0</td>\n",
       "      <td>0</td>\n",
       "      <td>0</td>\n",
       "      <td>-</td>\n",
       "      <td>-</td>\n",
       "    </tr>\n",
       "  </tbody>\n",
       "</table>\n",
       "</div>"
      ],
      "text/plain": [
       "      փ_1 փ_2 փ_3 փ_4 փ_5 փ_6 փ_7 փ_8 փ_9 գում նոր դաս\n",
       "ՀԱՊՀ    1   4   5   5   2   1   3   2   4   27       3\n",
       "ԵՊՀ     4   1   2   2   3   3   1   4   5   25       2\n",
       "AUA     2   2   1   1   1   2   2   3   4   18       1\n",
       "RAU     5   5   4   3   5   5   4   5   2   38       5\n",
       "ՃՇՀԱՀ   3   3   3   4   4   4   5   1   1   28       4\n",
       "$t_j$   1   1   2   3   3   2   1   1   0    -       -\n",
       "$T_j$   0   0   6  24  24   6   0   0   0    -       -"
      ]
     },
     "execution_count": 7,
     "metadata": {},
     "output_type": "execute_result"
    }
   ],
   "source": [
    "columns = []\n",
    "for i in range(9):\n",
    "    columns+=[f'փ_{i+1}']\n",
    "columns += ['գում', 'նոր դաս']\n",
    "rows = ['ՀԱՊՀ', 'ԵՊՀ', 'AUA', 'RAU', 'ՃՇՀԱՀ', '$t_j$', '$T_j$']\n",
    "\n",
    "df = pd.DataFrame(array, columns=columns, index=rows)\n",
    "df"
   ]
  },
  {
   "cell_type": "markdown",
   "id": "d68f864f",
   "metadata": {},
   "source": [
    "### Concordance coefficient (Կոնկորդացիայի գործակից)"
   ]
  },
  {
   "cell_type": "markdown",
   "id": "797f2871",
   "metadata": {},
   "source": [
    "### $W = \\frac{12S}{N^2(K^3 - K) - N\\sum_{n=1}^{N} T_j}, \\space  S =\\sum_{n=1}^{k} (K_{iN+T}\\frac{1}{2}N(K+1))^2$"
   ]
  },
  {
   "cell_type": "code",
   "execution_count": null,
   "id": "ace97309",
   "metadata": {},
   "outputs": [],
   "source": [
    "S = np.power(array[:, -2][:-2].astype(int) - 5*(5+1), 2).sum()\n",
    "\n",
    "W = (12*S) / (100*120-(10*156))\n",
    "print(f\"Concordance coefficient is {round(W, 2)}.\")"
   ]
  },
  {
   "cell_type": "code",
   "execution_count": null,
   "id": "fe6001b8",
   "metadata": {},
   "outputs": [],
   "source": []
  }
 ],
 "metadata": {
  "kernelspec": {
   "display_name": "Python 3 (ipykernel)",
   "language": "python",
   "name": "python3"
  },
  "language_info": {
   "codemirror_mode": {
    "name": "ipython",
    "version": 3
   },
   "file_extension": ".py",
   "mimetype": "text/x-python",
   "name": "python",
   "nbconvert_exporter": "python",
   "pygments_lexer": "ipython3",
   "version": "3.9.7"
  }
 },
 "nbformat": 4,
 "nbformat_minor": 5
}
